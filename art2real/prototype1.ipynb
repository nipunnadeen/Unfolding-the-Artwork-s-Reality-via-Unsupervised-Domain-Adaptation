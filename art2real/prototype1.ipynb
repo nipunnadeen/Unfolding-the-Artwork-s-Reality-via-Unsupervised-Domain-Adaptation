{
  "nbformat": 4,
  "nbformat_minor": 0,
  "metadata": {
    "colab": {
      "name": "prototype1.ipynb",
      "provenance": [],
      "collapsed_sections": [],
      "machine_shape": "hm"
    },
    "kernelspec": {
      "name": "python3",
      "display_name": "Python 3"
    },
    "accelerator": "GPU"
  },
  "cells": [
    {
      "cell_type": "code",
      "metadata": {
        "id": "Wa22-pt8Ycay"
      },
      "source": [
        "!pip install dominate\n",
        "!pip install visdom\n",
        "!pip install faiss-cpu\n",
        "!pip install torch\n",
        "!pip install torchvision\n",
        "!pip install opencv-contrib-python==4.5.1.48"
      ],
      "execution_count": null,
      "outputs": []
    },
    {
      "cell_type": "code",
      "metadata": {
        "id": "M6t30dZh4ve5"
      },
      "source": [
        "!unzip '/content/drive/My Drive/Colab Notebooks/Art2Real/art2real/datasets/landscape2photo.zip' -d '/content/drive/My Drive/Colab Notebooks/Art2Real/art2real/datasets/o/landscape2photo'"
      ],
      "execution_count": null,
      "outputs": []
    },
    {
      "cell_type": "code",
      "metadata": {
        "id": "Czd-lh3PA8S8"
      },
      "source": [
        "!python \"/content/drive/My Drive/Colab Notebooks/Art2Real/art2real/train.py\" --dataroot /content/drive/My\\ Drive/Colab\\ Notebooks/Art2Real/art2real/datasets/portrait2photo --name portrait2photo --model cycle_gan"
      ],
      "execution_count": null,
      "outputs": []
    },
    {
      "cell_type": "code",
      "metadata": {
        "id": "ovBcS-hYQGfn"
      },
      "source": [
        "!python \"/content/drive/My Drive/Colab Notebooks/Art2Real/art2real/train.py\" --dataroot /content/drive/My\\ Drive/Colab\\ Notebooks/Art2Real/art2real/datasets/portrait2photo --name portrait2photo --no_dropout --display_id 0 --no_flip --niter_decay 100 --no_flip --patch_size_1 16 --stride_1 6 --which_mem_bank /content/drive/My\\ Drive/Colab\\ Notebooks/Art2Real/art2real/data_for_patch_retrieval --artistic_masks_dir masks_of_artistic_images_landscape --preload_mem_patches --preload_indexes\n",
        "# !python \"/content/drive/My Drive/Colab Notebooks/Art2Real/art2real/train.py\" --dataroot /content/drive/My\\ Drive/Colab\\ Notebooks/Art2Real/art2real/datasets/landscape2photo --name landscape2photo --no_dropout --display_id 0 --no_flip --niter_decay 100 --no_flip --patch_size_1 16 --stride_1 6 --which_mem_bank /content/drive/My\\ Drive/Colab\\ Notebooks/Art2Real/art2real/data_for_patch_retrieval --artistic_masks_dir masks_of_artistic_images_landscape --preload_mem_patches --preload_indexes\n"
      ],
      "execution_count": null,
      "outputs": []
    },
    {
      "cell_type": "code",
      "metadata": {
        "id": "AKj3We8ge8L5"
      },
      "source": [
        "!python \"/content/drive/My Drive/Colab Notebooks/Art2Real/art2real/test.py\" --dataroot /content/drive/My\\ Drive/Colab\\ Notebooks/Art2Real/art2real/datasets --name portrait2photo --num_test 50 --results_dir /content/drive/My\\ Drive/Colab\\ Notebooks/Art2Real/art2real\n",
        "# !python \"/content/drive/My Drive/Colab Notebooks/Art2Real/art2real/test.py\" --dataroot /content/drive/My\\ Drive/Colab\\ Notebooks/Art2Real/art2real/datasets --name landscape2photo --num_test 50 --results_dir /content/drive/My\\ Drive/Colab\\ Notebooks/Art2Real/art2real"
      ],
      "execution_count": null,
      "outputs": []
    }
  ]
}